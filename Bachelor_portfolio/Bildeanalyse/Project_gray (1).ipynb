{
  "cells": [
    {
      "cell_type": "code",
      "execution_count": 1,
      "metadata": {
        "colab": {
          "base_uri": "https://localhost:8080/"
        },
        "id": "cGQGPjLxcDob",
        "outputId": "d7b2d35a-f5ff-4012-e773-d33f111268d8"
      },
      "outputs": [
        {
          "output_type": "stream",
          "name": "stderr",
          "text": [
            "YOLOv5 🚀 v6.1-223-g1dcb774 Python-3.7.13 torch-1.11.0+cu113 CPU\n"
          ]
        },
        {
          "output_type": "stream",
          "name": "stdout",
          "text": [
            "Setup complete ✅ (2 CPUs, 12.7 GB RAM, 38.4/107.7 GB disk)\n"
          ]
        }
      ],
      "source": [
        "!git clone https://github.com/ultralytics/yolov5  # clone\n",
        "%cd yolov5\n",
        "%pip install -qr requirements.txt  # install\n",
        "\n",
        "import torch\n",
        "from yolov5 import utils\n",
        "display = utils.notebook_init()  # checks"
      ]
    },
    {
      "cell_type": "markdown",
      "metadata": {
        "id": "aN5EYToagUlB"
      },
      "source": [
        "The two cells under was to make a copy of the yolov5 folder and convert it to zip, and then download it.\n",
        "* They can be ignored unless you want to download again (cell over have to be run before)"
      ]
    },
    {
      "cell_type": "code",
      "execution_count": null,
      "metadata": {
        "id": "Qwa7EaPcgNd8"
      },
      "outputs": [],
      "source": [
        "!zip -r /content/yolov5.zip /content/yolov5/"
      ]
    },
    {
      "cell_type": "code",
      "execution_count": null,
      "metadata": {
        "id": "m8LKw7MugMMA"
      },
      "outputs": [],
      "source": [
        "from google.colab import files\n",
        "files.download('/content/yolov5.zip')"
      ]
    },
    {
      "cell_type": "markdown",
      "metadata": {
        "id": "oOlNn1GsfpmQ"
      },
      "source": [
        "Drag yolov5.zip into collab files if you did not run the cell code that cloned the yolov5 folder from git\n",
        "* Run code under after it appears"
      ]
    },
    {
      "cell_type": "code",
      "execution_count": null,
      "metadata": {
        "id": "s9nb8_nZfpIg"
      },
      "outputs": [],
      "source": [
        "!unzip -q /content/yolov5.zip -d ../"
      ]
    },
    {
      "cell_type": "code",
      "execution_count": 2,
      "metadata": {
        "id": "PuWFvnUNyDil"
      },
      "outputs": [],
      "source": [
        "# Drag Color, Gray and Blur zip into collab files, then run code cell\n",
        "!unzip -q /content/Color.zip -d ../\n",
        "!unzip -q /content/Gray.zip -d ../\n",
        "!unzip -q /content/Blur.zip -d ../"
      ]
    },
    {
      "cell_type": "markdown",
      "metadata": {
        "id": "b4lZTkeiBlMY"
      },
      "source": [
        "Go to /content/yolov5/data/hyps/hyp.scratch-low.yaml to edit learning rate.\n",
        "  \n",
        "\n",
        "*   lr0 is initial learning rate\n",
        "*   lrf is final OneCycleLR learning rate (lr0 * lrf)\n",
        "\n",
        "Go to Gray, Gray, and cat_blur folder, and move the .yaml files to /yolov5/data\n",
        "* They should appear right over yolov5 folder(just wait abit)\n",
        "* If not, go up one level (double click the .. at the top in file section, should be above yolov5 folder)\n",
        "* Move them into content folder"
      ]
    },
    {
      "cell_type": "code",
      "execution_count": null,
      "metadata": {
        "id": "5q_ArIEIcDjo"
      },
      "outputs": [],
      "source": [
        "# Training the model with 30 epochs, takes around 4.2 hours\n",
        "!python /content/yolov5/train.py --img 640 --batch 16 --epochs 30 --data gray.yaml --weights yolov5s.pt --cache"
      ]
    },
    {
      "cell_type": "code",
      "execution_count": null,
      "metadata": {
        "id": "-76dwcSgcDaN"
      },
      "outputs": [],
      "source": [
        "!python /content/yolov5/detect.py --weights runs/train/exp/weights/best.pt --img 640 --conf 0.35 --source ../Gray/test/images"
      ]
    },
    {
      "cell_type": "code",
      "execution_count": null,
      "metadata": {
        "id": "ESieC_kNcllf"
      },
      "outputs": [],
      "source": [
        "!python /content/yolov5/detect.py --weights runs/train/exp/weights/best.pt --img 640 --conf 0.35 --source ../cat_blur/test/images"
      ]
    },
    {
      "cell_type": "code",
      "execution_count": null,
      "metadata": {
        "id": "TGP1mZSrclRR"
      },
      "outputs": [],
      "source": [
        "!python /content/yolov5/detect.py --weights runs/train/exp/weights/best.pt --img 640 --conf 0.35 --source ../Color/test/images"
      ]
    },
    {
      "cell_type": "code",
      "execution_count": null,
      "metadata": {
        "id": "syoyFEIIQYCi"
      },
      "outputs": [],
      "source": [
        "!zip -r /content/detect_gray.zip /content/yolov5/runs/detect"
      ]
    },
    {
      "cell_type": "code",
      "execution_count": null,
      "metadata": {
        "id": "q_My3N6EPfog"
      },
      "outputs": [],
      "source": [
        "from google.colab import files\n",
        "files.download('/content/detect_gray.zip')"
      ]
    }
  ],
  "metadata": {
    "colab": {
      "collapsed_sections": [],
      "name": "Project_gray.ipynb",
      "provenance": []
    },
    "kernelspec": {
      "display_name": "Python 3",
      "name": "python3"
    },
    "language_info": {
      "name": "python"
    }
  },
  "nbformat": 4,
  "nbformat_minor": 0
}