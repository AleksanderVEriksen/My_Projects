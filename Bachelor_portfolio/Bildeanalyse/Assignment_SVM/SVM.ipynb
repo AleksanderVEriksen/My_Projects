{
  "nbformat": 4,
  "nbformat_minor": 0,
  "metadata": {
    "colab": {
      "name": "SVM.ipynb",
      "provenance": [],
      "collapsed_sections": []
    },
    "kernelspec": {
      "name": "python3",
      "display_name": "Python 3"
    },
    "language_info": {
      "name": "python"
    }
  },
  "cells": [
    {
      "cell_type": "code",
      "execution_count": 1,
      "metadata": {
        "id": "3c_MREapcOho"
      },
      "outputs": [],
      "source": [
        "import numpy as np\n",
        "import cv2\n",
        "import pandas as pd\n",
        "from google.colab.patches import cv2_imshow\n",
        "# silent all warnings\n",
        "import os\n",
        "os.environ['TF_CPP_MIN_LOG_LEVEL']='3'\n",
        "import warnings\n",
        "warnings.filterwarnings('ignore')\n",
        "from tensorflow.python.util import deprecation\n",
        "deprecation._PRINT_DEPRECATION_WARNINGS = False"
      ]
    },
    {
      "cell_type": "code",
      "source": [
        "# Drag both Digit testing and training zip into collab files, then run code cell\n",
        "!unzip -q /content/Digit_training.zip -d ../\n",
        "!unzip -q /content/Digit_testing.zip -d ../"
      ],
      "metadata": {
        "id": "ta2YdOTgwAFi"
      },
      "execution_count": 2,
      "outputs": []
    },
    {
      "cell_type": "code",
      "source": [
        "import glob\n",
        "from skimage import io\n",
        "\n",
        "def imagesToArray(path):\n",
        "  gg = []\n",
        "  for file in glob.glob(path):\n",
        "   a = cv2.imread(file)\n",
        "   gg.append(a)\n",
        "  return np.copy(gg)\n",
        "# source: https://stackoverflow.com/questions/51857468/google-colab-how-to-loop-through-images-in-a-folder    "
      ],
      "metadata": {
        "id": "TcLPS2O9bfwa"
      },
      "execution_count": 3,
      "outputs": []
    },
    {
      "cell_type": "code",
      "source": [
        "# Initialize arrays that holds each classification\n",
        "test_sample = imagesToArray(\"/Digit_testing/*/*.*\")\n",
        "train_sample = imagesToArray(\"/Digit_training/*/*.*\")"
      ],
      "metadata": {
        "id": "BWF3AwmqxopO"
      },
      "execution_count": 4,
      "outputs": []
    },
    {
      "cell_type": "code",
      "source": [
        "def meanValue(sample):\n",
        "    imgs = []\n",
        "    for images in range(0,len(sample)): # images\n",
        "      feature_matrix = np.zeros((28,28)) \n",
        "      for arrays in range(0,len(sample[images])): # 28\n",
        "          for px in range(0,len(sample[images][arrays])): # 28\n",
        "              feature_matrix[arrays][px] = ((int(sample[images][arrays][px][0]) + int(sample[images][arrays][px][1]) + int(sample[images][arrays][px][2]))/3)\n",
        "      imgs.append(feature_matrix) \n",
        "    return np.copy(imgs)\n"
      ],
      "metadata": {
        "id": "tISr3NPNoLev"
      },
      "execution_count": 5,
      "outputs": []
    },
    {
      "cell_type": "code",
      "source": [
        "train_sample.shape"
      ],
      "metadata": {
        "colab": {
          "base_uri": "https://localhost:8080/"
        },
        "id": "AO6PpTF6RB0u",
        "outputId": "af53c77e-386a-4163-e82b-36eb69f1af8a"
      },
      "execution_count": 6,
      "outputs": [
        {
          "output_type": "execute_result",
          "data": {
            "text/plain": [
              "(5000, 28, 28, 3)"
            ]
          },
          "metadata": {},
          "execution_count": 6
        }
      ]
    },
    {
      "cell_type": "code",
      "source": [
        "train = meanValue(train_sample)\n",
        "test = meanValue(test_sample)\n",
        "\n",
        "print(train.shape)\n",
        "print(len(test[0]))\n",
        "print(len(train[0]))"
      ],
      "metadata": {
        "colab": {
          "base_uri": "https://localhost:8080/"
        },
        "id": "PLkrBTSAoziW",
        "outputId": "d474c769-7d69-4f87-bb1a-e47bbe55622e"
      },
      "execution_count": 7,
      "outputs": [
        {
          "output_type": "stream",
          "name": "stdout",
          "text": [
            "(5000, 28, 28)\n",
            "28\n",
            "28\n"
          ]
        }
      ]
    },
    {
      "cell_type": "code",
      "source": [
        "# Fourier_response function\n",
        "def fourier_response(folder):\n",
        "  imgs = []\n",
        "  for img in range(0,len(folder)):\n",
        "    imgs.append(np.real(np.fft.fft2(folder[img])))  \n",
        "  return np.copy(imgs)   "
      ],
      "metadata": {
        "id": "-F8ysHV8Nh85"
      },
      "execution_count": 8,
      "outputs": []
    },
    {
      "cell_type": "code",
      "source": [
        "# Flatten the matrix\n",
        "def flatten(sample):\n",
        "  data = []\n",
        "  for x in range(0,len(sample)):\n",
        "    data.append(sample[x].flatten())\n",
        "  return np.copy(data)"
      ],
      "metadata": {
        "id": "MnhBW45VFlZz"
      },
      "execution_count": 9,
      "outputs": []
    },
    {
      "cell_type": "code",
      "source": [
        "# Normalization of data\n",
        "def normalization(data):\n",
        "  imgs = []\n",
        "  for img in range(0,len(data)): # 200\n",
        "    imgs.append((data[img] - data[img].min())/ (data[img].max() - data[img].min()))\n",
        "  \n",
        "  return np.copy(imgs)"
      ],
      "metadata": {
        "id": "8WnA2P1HB19a"
      },
      "execution_count": 10,
      "outputs": []
    },
    {
      "cell_type": "code",
      "source": [
        "cv2_imshow(train[0])\n",
        "cv2_imshow(test[0])"
      ],
      "metadata": {
        "colab": {
          "base_uri": "https://localhost:8080/",
          "height": 73
        },
        "id": "bG5JeL94Yezz",
        "outputId": "7aa8c011-7083-4e0b-c72d-09e3308c4005"
      },
      "execution_count": 11,
      "outputs": [
        {
          "output_type": "display_data",
          "data": {
            "text/plain": [
              "<PIL.Image.Image image mode=L size=28x28 at 0x7FE0E7182890>"
            ],
            "image/png": "[encoded data removed]"
          },
          "metadata": {}
        },
        {
          "output_type": "display_data",
          "data": {
            "text/plain": [
              "<PIL.Image.Image image mode=L size=28x28 at 0x7FE05BC2D4D0>"
            ],
            "image/png": "[encoded data removed]"
          },
          "metadata": {}
        }
      ]
    },
    {
      "cell_type": "code",
      "source": [
        "print(train.shape)\n",
        "print(test.shape)"
      ],
      "metadata": {
        "colab": {
          "base_uri": "https://localhost:8080/"
        },
        "id": "vGNBjIB5YCxw",
        "outputId": "18567c00-2d08-4586-e3d2-314fff3872ad"
      },
      "execution_count": 12,
      "outputs": [
        {
          "output_type": "stream",
          "name": "stdout",
          "text": [
            "(5000, 28, 28)\n",
            "(2000, 28, 28)\n"
          ]
        }
      ]
    },
    {
      "cell_type": "code",
      "source": [
        "# Creating furior transform for training\n",
        "f_r_train = fourier_response(train)"
      ],
      "metadata": {
        "id": "Uzbh9y-BV5Kw"
      },
      "execution_count": 13,
      "outputs": []
    },
    {
      "cell_type": "code",
      "source": [
        "print(f_r_train.shape)\n",
        "print(len(f_r_train))\n",
        "cv2_imshow(f_r_train[0])"
      ],
      "metadata": {
        "colab": {
          "base_uri": "https://localhost:8080/",
          "height": 80
        },
        "id": "w7UoXOVe10Du",
        "outputId": "1313441c-c336-4980-b7dd-ab78d459ead3"
      },
      "execution_count": 14,
      "outputs": [
        {
          "output_type": "stream",
          "name": "stdout",
          "text": [
            "(5000, 28, 28)\n",
            "5000\n"
          ]
        },
        {
          "output_type": "display_data",
          "data": {
            "text/plain": [
              "<PIL.Image.Image image mode=L size=28x28 at 0x7FE05BBDBCD0>"
            ],
            "image/png": "[encoded data removed]"
          },
          "metadata": {}
        }
      ]
    },
    {
      "cell_type": "code",
      "source": [
        "# Creating furior transform for testing\n",
        "f_r_test = fourier_response(test)"
      ],
      "metadata": {
        "id": "WQT1OkOtZbzX"
      },
      "execution_count": 15,
      "outputs": []
    },
    {
      "cell_type": "code",
      "source": [
        "print(f_r_test.shape)\n",
        "print(len(f_r_test))\n",
        "cv2_imshow(f_r_test[0])"
      ],
      "metadata": {
        "colab": {
          "base_uri": "https://localhost:8080/",
          "height": 80
        },
        "id": "oQOUaFu6GLn1",
        "outputId": "76bf15b8-2548-4231-bd1f-58db9a749986"
      },
      "execution_count": 16,
      "outputs": [
        {
          "output_type": "stream",
          "name": "stdout",
          "text": [
            "(2000, 28, 28)\n",
            "2000\n"
          ]
        },
        {
          "output_type": "display_data",
          "data": {
            "text/plain": [
              "<PIL.Image.Image image mode=L size=28x28 at 0x7FE05BBE0410>"
            ],
            "image/png": "[encoded data removed]"
          },
          "metadata": {}
        }
      ]
    },
    {
      "cell_type": "code",
      "source": [
        "# Flatten the samples after fourier\n",
        "f_r_test_flat = flatten(f_r_test)\n",
        "f_r_train_flat = flatten(f_r_train)"
      ],
      "metadata": {
        "id": "0tDQafejKZ0l"
      },
      "execution_count": 17,
      "outputs": []
    },
    {
      "cell_type": "code",
      "source": [
        "f_r_test[0].flatten().shape"
      ],
      "metadata": {
        "colab": {
          "base_uri": "https://localhost:8080/"
        },
        "id": "4psRXzNDyvuI",
        "outputId": "a6f3e955-f5ef-4318-a93f-b536fb10953d"
      },
      "execution_count": 18,
      "outputs": [
        {
          "output_type": "execute_result",
          "data": {
            "text/plain": [
              "(784,)"
            ]
          },
          "metadata": {},
          "execution_count": 18
        }
      ]
    },
    {
      "cell_type": "code",
      "source": [
        "print(f_r_test_flat.shape)\n",
        "print(f_r_train_flat.shape)"
      ],
      "metadata": {
        "colab": {
          "base_uri": "https://localhost:8080/"
        },
        "id": "jMzzDee6KimD",
        "outputId": "9d463537-0a74-4e4b-a9cf-585cadebeeb6"
      },
      "execution_count": 19,
      "outputs": [
        {
          "output_type": "stream",
          "name": "stdout",
          "text": [
            "(2000, 784)\n",
            "(5000, 784)\n"
          ]
        }
      ]
    },
    {
      "cell_type": "code",
      "source": [
        "# Normalization of Furior transformation\n",
        "f_r_test_norm = normalization(f_r_test_flat)\n",
        "f_r_train_norm = normalization(f_r_train_flat)"
      ],
      "metadata": {
        "id": "uCz95Zt5J6Wo"
      },
      "execution_count": 20,
      "outputs": []
    },
    {
      "cell_type": "code",
      "source": [
        "print((f_r_test_norm.shape))\n",
        "len(f_r_test_norm)"
      ],
      "metadata": {
        "id": "yWKL_QlRJ7oD",
        "colab": {
          "base_uri": "https://localhost:8080/"
        },
        "outputId": "145ca1f5-f419-468a-b177-9aa2d76e8cd7"
      },
      "execution_count": 21,
      "outputs": [
        {
          "output_type": "stream",
          "name": "stdout",
          "text": [
            "(2000, 784)\n"
          ]
        },
        {
          "output_type": "execute_result",
          "data": {
            "text/plain": [
              "2000"
            ]
          },
          "metadata": {},
          "execution_count": 21
        }
      ]
    },
    {
      "cell_type": "code",
      "source": [
        "print(f_r_train_norm.shape)\n",
        "print(len(f_r_train_norm))"
      ],
      "metadata": {
        "colab": {
          "base_uri": "https://localhost:8080/"
        },
        "id": "SiJl5Mauer3P",
        "outputId": "acbe2fc9-c593-456e-a7c2-941cde331396"
      },
      "execution_count": 22,
      "outputs": [
        {
          "output_type": "stream",
          "name": "stdout",
          "text": [
            "(5000, 784)\n",
            "5000\n"
          ]
        }
      ]
    },
    {
      "cell_type": "code",
      "source": [
        "cv2_imshow(train[0])\n",
        "cv2_imshow(train[500])\n",
        "cv2_imshow(train[1000])\n",
        "cv2_imshow(train[1500])\n",
        "cv2_imshow(train[2000])\n",
        "cv2_imshow(train[2500])\n",
        "cv2_imshow(train[3000])\n",
        "cv2_imshow(train[3500])\n",
        "cv2_imshow(train[4000])\n",
        "cv2_imshow(train[4500])"
      ],
      "metadata": {
        "colab": {
          "base_uri": "https://localhost:8080/",
          "height": 297
        },
        "id": "JvuOBsDk0h49",
        "outputId": "259704c2-8db7-4098-d7fd-94d8a29e786e"
      },
      "execution_count": 23,
      "outputs": [
        {
          "output_type": "display_data",
          "data": {
            "text/plain": [
              "<PIL.Image.Image image mode=L size=28x28 at 0x7FE05BBD5590>"
            ],
            "image/png": "[encoded data removed]"
          },
          "metadata": {}
        },
        {
          "output_type": "display_data",
          "data": {
            "text/plain": [
              "<PIL.Image.Image image mode=L size=28x28 at 0x7FE05BBD5F90>"
            ],
            "image/png": "[encoded data removed]"
          },
          "metadata": {}
        },
        {
          "output_type": "display_data",
          "data": {
            "text/plain": [
              "<PIL.Image.Image image mode=L size=28x28 at 0x7FE05BBD5FD0>"
            ],
            "image/png": "[encoded data removed]"
          },
          "metadata": {}
        },
        {
          "output_type": "display_data",
          "data": {
            "text/plain": [
              "<PIL.Image.Image image mode=L size=28x28 at 0x7FE05BBD59D0>"
            ],
            "image/png": "[encoded data removed]"
          },
          "metadata": {}
        },
        {
          "output_type": "display_data",
          "data": {
            "text/plain": [
              "<PIL.Image.Image image mode=L size=28x28 at 0x7FE05BBD5210>"
            ],
            "image/png": "[encoded data removed]"
          },
          "metadata": {}
        },
        {
          "output_type": "display_data",
          "data": {
            "text/plain": [
              "<PIL.Image.Image image mode=L size=28x28 at 0x7FE05BBD5FD0>"
            ],
            "image/png": "[encoded data removed]"
          },
          "metadata": {}
        },
        {
          "output_type": "display_data",
          "data": {
            "text/plain": [
              "<PIL.Image.Image image mode=L size=28x28 at 0x7FE05BBD5F90>"
            ],
            "image/png": "[encoded data removed]"
          },
          "metadata": {}
        },
        {
          "output_type": "display_data",
          "data": {
            "text/plain": [
              "<PIL.Image.Image image mode=L size=28x28 at 0x7FE05BBD5210>"
            ],
            "image/png": "[encoded data removed]"
          },
          "metadata": {}
        },
        {
          "output_type": "display_data",
          "data": {
            "text/plain": [
              "<PIL.Image.Image image mode=L size=28x28 at 0x7FE05BBD59D0>"
            ],
            "image/png": "[encoded data removed]"
          },
          "metadata": {}
        },
        {
          "output_type": "display_data",
          "data": {
            "text/plain": [
              "<PIL.Image.Image image mode=L size=28x28 at 0x7FE05BBD5E50>"
            ],
            "image/png": "[encoded data removed]"
          },
          "metadata": {}
        }
      ]
    },
    {
      "cell_type": "code",
      "source": [
        "cv2_imshow(test[0])\n",
        "cv2_imshow(test[200])\n",
        "cv2_imshow(test[400])\n",
        "cv2_imshow(test[600])\n",
        "cv2_imshow(test[800])\n",
        "cv2_imshow(test[1000])\n",
        "cv2_imshow(test[1200])\n",
        "cv2_imshow(test[1400])\n",
        "cv2_imshow(test[1600])\n",
        "cv2_imshow(test[1800])"
      ],
      "metadata": {
        "colab": {
          "base_uri": "https://localhost:8080/",
          "height": 297
        },
        "id": "E7cKvwPM3Uuw",
        "outputId": "a4d290cf-ffe8-4bd3-cbe3-7d855dd29750"
      },
      "execution_count": 24,
      "outputs": [
        {
          "output_type": "display_data",
          "data": {
            "text/plain": [
              "<PIL.Image.Image image mode=L size=28x28 at 0x7FE05BBBDE90>"
            ],
            "image/png": "[encoded data removed]"
          },
          "metadata": {}
        },
        {
          "output_type": "display_data",
          "data": {
            "text/plain": [
              "<PIL.Image.Image image mode=L size=28x28 at 0x7FE05BBBDE10>"
            ],
            "image/png": "[encoded data removed]"
          },
          "metadata": {}
        },
        {
          "output_type": "display_data",
          "data": {
            "text/plain": [
              "<PIL.Image.Image image mode=L size=28x28 at 0x7FE05BBBDE10>"
            ],
            "image/png": "[encoded data removed]"
          },
          "metadata": {}
        },
        {
          "output_type": "display_data",
          "data": {
            "text/plain": [
              "<PIL.Image.Image image mode=L size=28x28 at 0x7FE05BBBDE10>"
            ],
            "image/png": "[encoded data removed]"
          },
          "metadata": {}
        },
        {
          "output_type": "display_data",
          "data": {
            "text/plain": [
              "<PIL.Image.Image image mode=L size=28x28 at 0x7FE05BBBDE10>"
            ],
            "image/png": "[encoded data removed]"
          },
          "metadata": {}
        },
        {
          "output_type": "display_data",
          "data": {
            "text/plain": [
              "<PIL.Image.Image image mode=L size=28x28 at 0x7FE05BBBDE10>"
            ],
            "image/png": "[encoded data removed]"
          },
          "metadata": {}
        },
        {
          "output_type": "display_data",
          "data": {
            "text/plain": [
              "<PIL.Image.Image image mode=L size=28x28 at 0x7FE05BBBDE10>"
            ],
            "image/png": "[encoded data removed]"
          },
          "metadata": {}
        },
        {
          "output_type": "display_data",
          "data": {
            "text/plain": [
              "<PIL.Image.Image image mode=L size=28x28 at 0x7FE05BBBDE10>"
            ],
            "image/png": "[encoded data removed]"
          },
          "metadata": {}
        },
        {
          "output_type": "display_data",
          "data": {
            "text/plain": [
              "<PIL.Image.Image image mode=L size=28x28 at 0x7FE05BBBDE10>"
            ],
            "image/png": "[encoded data removed]"
          },
          "metadata": {}
        },
        {
          "output_type": "display_data",
          "data": {
            "text/plain": [
              "<PIL.Image.Image image mode=L size=28x28 at 0x7FE05BBBDE10>"
            ],
            "image/png": "[encoded data removed]"
          },
          "metadata": {}
        }
      ]
    },
    {
      "cell_type": "code",
      "source": [
        "# Creating y values for train and test\n",
        "y_pred = np.zeros((10,500))\n",
        "y_pred[0].fill(4)\n",
        "y_pred[1].fill(5)\n",
        "y_pred[2].fill(0)\n",
        "y_pred[3].fill(1)\n",
        "y_pred[4].fill(6)\n",
        "y_pred[5].fill(9)\n",
        "y_pred[6].fill(8)\n",
        "y_pred[7].fill(2)\n",
        "y_pred[8].fill(7)\n",
        "y_pred[9].fill(3)\n",
        "\n",
        "y_pred = y_pred.reshape(-1,1)\n",
        "\n",
        "y_pred_test = np.zeros((10,200))\n",
        "y_pred_test[0].fill(4)\n",
        "y_pred_test[1].fill(5)\n",
        "y_pred_test[2].fill(0)\n",
        "y_pred_test[3].fill(1)\n",
        "y_pred_test[4].fill(6)\n",
        "y_pred_test[5].fill(9)\n",
        "y_pred_test[6].fill(8)\n",
        "y_pred_test[7].fill(2)\n",
        "y_pred_test[8].fill(7)\n",
        "y_pred_test[9].fill(3)\n",
        "\n",
        "y_pred_test = y_pred_test.reshape(-1,1) "
      ],
      "metadata": {
        "id": "bH9J4WrJo_rI"
      },
      "execution_count": 25,
      "outputs": []
    },
    {
      "cell_type": "code",
      "source": [
        "print(y_pred.shape)"
      ],
      "metadata": {
        "colab": {
          "base_uri": "https://localhost:8080/"
        },
        "id": "z7tX_-VoLSFz",
        "outputId": "e0b4483d-f42c-4d4e-f10e-a8e8fdcf2bbc"
      },
      "execution_count": 26,
      "outputs": [
        {
          "output_type": "stream",
          "name": "stdout",
          "text": [
            "(5000, 1)\n"
          ]
        }
      ]
    },
    {
      "cell_type": "code",
      "source": [
        "from sklearn.svm import SVC\n",
        "from sklearn.metrics import accuracy_score\n",
        "def KERNEL_SVM(deg, x, y, x_test, y_test):\n",
        "  classifier = SVC(kernel ='poly', degree = deg,random_state = 0,C=1)\n",
        "  classifier.fit(x,y)\n",
        "  clf_pred = classifier.predict(x_test)\n",
        "  acc = (accuracy_score(y_test, clf_pred)*100)\n",
        "  return acc"
      ],
      "metadata": {
        "id": "LodxnwoxHj9D"
      },
      "execution_count": 27,
      "outputs": []
    },
    {
      "cell_type": "code",
      "source": [
        "kern_1 = KERNEL_SVM(1,f_r_train_norm, y_pred, f_r_test_norm, y_pred_test)\n",
        "kern_3 = KERNEL_SVM(3,f_r_train_norm, y_pred, f_r_test_norm, y_pred_test)\n",
        "kern_5 = KERNEL_SVM(5,f_r_train_norm, y_pred, f_r_test_norm, y_pred_test)\n",
        "\n",
        "f = open(\"Accuracy.txt\", \"w\")\n",
        "\n",
        "f.write(\"Kernel SVM accuracy with degree 1, no pca: \" + str(kern_1) + \n",
        "        \"\\nKernel SVM accuracy with degree 3, no pca: \" + str(kern_3) + \n",
        "        \"\\nKernel SVM accuracy with degree 5, no pca: \" + str(kern_5))\n",
        "\n",
        "f.close()"
      ],
      "metadata": {
        "id": "1LB_sBoo62O-"
      },
      "execution_count": 28,
      "outputs": []
    },
    {
      "cell_type": "code",
      "source": [
        "from sklearn.decomposition import PCA\n",
        "pca = PCA(n_components=196)\n",
        "pca.fit(f_r_train_norm)\n",
        "f_r_train_pca = pca.transform(f_r_train_norm)\n",
        "f_r_test_pca = pca.transform(f_r_test_norm)"
      ],
      "metadata": {
        "id": "SspJ-JEE36aT"
      },
      "execution_count": 32,
      "outputs": []
    },
    {
      "cell_type": "code",
      "source": [
        "f_r_test_pca_norm = normalization(f_r_test_pca)\n",
        "f_r_train_pca_norm = normalization(f_r_train_pca) "
      ],
      "metadata": {
        "id": "TCTq6ChqFE6G"
      },
      "execution_count": 33,
      "outputs": []
    },
    {
      "cell_type": "code",
      "source": [
        "\n",
        "kern_1_pca = KERNEL_SVM(1,f_r_train_pca_norm, y_pred, f_r_test_pca_norm, y_pred_test)\n",
        "kern_3_pca = KERNEL_SVM(3,f_r_train_pca_norm, y_pred, f_r_test_pca_norm, y_pred_test)\n",
        "kern_5_pca = KERNEL_SVM(5,f_r_train_pca_norm, y_pred, f_r_test_pca_norm, y_pred_test)\n",
        "\n",
        "f = open(\"Accuracy_pca.txt\", \"w\")\n",
        "\n",
        "f.write(\"Kernel SVM accuracy with degree 1, pca: \" + str(kern_1_pca) + \n",
        "        \"\\nKernel SVM accuracy with degree 3, pca: \" + str(kern_3_pca) + \n",
        "        \"\\nKernel SVM accuracy with degree 5, pca: \" + str(kern_5_pca))\n",
        "\n",
        "f.close()"
      ],
      "metadata": {
        "id": "WONd0eBLF4Bn"
      },
      "execution_count": 35,
      "outputs": []
    }
  ]
}